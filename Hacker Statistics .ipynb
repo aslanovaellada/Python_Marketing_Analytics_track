{
 "cells": [
  {
   "cell_type": "markdown",
   "metadata": {},
   "source": [
    "You throw a die one hundred times. If it's 1 or 2 you'll go one step down. If it's 3,4 or 5, you'll go one step up. If you throw a 6, you'll throw the die again and will walk up the resulting number of steps. Of course, you can not go lower than step number 0. And also, you admit that you're a bit clumsy and have a chance of 0.1 of falling down the stairs when you make a move. Falling down means that you have to start again from step 0. With all of this in mind, you bet with your friend that you'll reach 60 steps high. What is the chance that you will win this bet? \n",
    "\n",
    "**Question:** What are the odds that you'll reach 60 steps high on the Empire State Building?\n",
    "\n",
    " 1. Can't go below step 0\n",
    " 2. 0.1 % chance of falling down the stairs \n",
    " 3. Bet: you'll reach step 60 \n"
   ]
  },
  {
   "cell_type": "code",
   "execution_count": 8,
   "metadata": {},
   "outputs": [
    {
     "name": "stdout",
     "output_type": "stream",
     "text": [
      "5\n"
     ]
    }
   ],
   "source": [
    "#Roll the dice\n",
    "# Import numpy and set seed\n",
    "import numpy as np\n",
    "np.random.seed(123)\n",
    "\n",
    "# Use randint() to simulate a dice\n",
    "print(np.random.randint(1,7)) "
   ]
  },
  {
   "cell_type": "code",
   "execution_count": 10,
   "metadata": {},
   "outputs": [
    {
     "name": "stdout",
     "output_type": "stream",
     "text": [
      "2\n"
     ]
    }
   ],
   "source": [
    "# Use randint() again\n",
    "print(np.random.randint(1,7)) "
   ]
  },
  {
   "cell_type": "code",
   "execution_count": 20,
   "metadata": {},
   "outputs": [
    {
     "name": "stdout",
     "output_type": "stream",
     "text": [
      "53\n",
      "6\n"
     ]
    }
   ],
   "source": [
    "# Determine your next move \n",
    "np.random.seed(123)\n",
    "\n",
    "step = 50 \n",
    "dice = np.random.randint(1,7)\n",
    "if dice <=2:\n",
    "    step = max(0,step -1)\n",
    "elif dice <=5:\n",
    "    step = step + 1\n",
    "else: \n",
    "    step = step + np.random.randint(1,7) \n",
    "    \n",
    " \n",
    "print(step)\n",
    "print(dice)"
   ]
  },
  {
   "cell_type": "code",
   "execution_count": 33,
   "metadata": {},
   "outputs": [
    {
     "name": "stdout",
     "output_type": "stream",
     "text": [
      "[0, 3, 4, 5, 4, 5, 6, 7, 6, 5, 4, 3, 2, 1, 0, 0, 1, 6, 5, 4, 5, 4, 5, 6, 7, 8, 9, 8, 9, 8, 9, 10, 11, 12, 11, 15, 16, 15, 16, 15, 16, 17, 18, 19, 20, 21, 22, 25, 26, 27, 28, 33, 34, 38, 39, 38, 39, 40, 39, 40, 41, 43, 44, 45, 44, 43, 44, 45, 44, 43, 44, 45, 47, 46, 45, 46, 45, 46, 47, 48, 50, 49, 50, 51, 52, 53, 54, 53, 52, 53, 52, 53, 54, 53, 56, 57, 58, 59, 58, 59, 60]\n"
     ]
    },
    {
     "data": {
      "image/png": "[encoded data removed]",
      "text/plain": [
       "<Figure size 432x288 with 1 Axes>"
      ]
     },
     "metadata": {
      "needs_background": "light"
     },
     "output_type": "display_data"
    }
   ],
   "source": [
    "# create a random walk \n",
    "import numpy as np\n",
    "np.random.seed(123)\n",
    "\n",
    "random_walk = [0]\n",
    "\n",
    "for x in range(100):\n",
    "    #Set step: last element in random_walk\n",
    "    step = random_walk[-1]\n",
    "    # Roll the dice\n",
    "    dice = np.random.randint(1,7)\n",
    "    # Determine next step\n",
    "    if dice <=2 :\n",
    "        step = max(0,step-1)\n",
    "    elif dice <= 5 :\n",
    "        step = step +1 \n",
    "    else:\n",
    "        step = step + np.random.randint(1,7)\n",
    "    # append next_step to random_walk   \n",
    "    random_walk.append(step)\n",
    "print(random_walk)\n",
    "\n",
    "\n",
    "#visualize random_walk \n",
    "\n",
    "import matplotlib.pyplot as plt\n",
    "\n",
    "plt.plot(random_walk)\n",
    "plt.show()"
   ]
  },
  {
   "cell_type": "markdown",
   "metadata": {},
   "source": [
    "# Simulate multiple walks \n",
    "\n",
    "A single random walk is one thing, but that doesn't tell you if you have a good chance at winning the bet.\n",
    "\n",
    "To get an idea about how big your chances are of reaching 60 steps, you can repeatedly simulate the random walk and collect the results. \n"
   ]
  },
  {
   "cell_type": "code",
   "execution_count": 26,
   "metadata": {},
   "outputs": [
    {
     "name": "stdout",
     "output_type": "stream",
     "text": [
      "[[0, 3, 2, 3, 2, 1, 0, 1, 2, 3, 4], [0, 1, 0, 0, 1, 0, 1, 2, 3, 4, 5], [0, 1, 2, 3, 7, 8, 7, 9, 8, 9, 10], [0, 0, 1, 2, 4, 5, 6, 5, 6, 7, 6], [0, 1, 2, 3, 7, 9, 11, 16, 17, 18, 17], [0, 1, 2, 1, 0, 1, 7, 6, 5, 6, 7], [0, 5, 4, 3, 2, 4, 5, 7, 8, 7, 8], [0, 1, 2, 3, 2, 3, 7, 6, 7, 6, 5], [0, 0, 0, 1, 2, 3, 4, 6, 7, 6, 5], [0, 1, 2, 3, 5, 6, 5, 6, 7, 6, 7]]\n"
     ]
    }
   ],
   "source": [
    "# simulate random_walk 10 times \n",
    "np.random.seed(123)\n",
    "\n",
    "all_walks = []\n",
    "\n",
    "for x in range(10):\n",
    "    random_walk = [0]\n",
    "    for x in range(10):\n",
    "        step = random_walk[-1]\n",
    "        # Roll the dice\n",
    "        dice = np.random.randint(1,7)\n",
    "        if dice <=2 :\n",
    "            step = max(0,step-1)\n",
    "        elif dice <=5 :\n",
    "            step = step +1 \n",
    "        else:\n",
    "            step = step + np.random.randint(1,7)\n",
    "        # Implement clumsiness\n",
    "        if np.random.rand() <= 0.001 :\n",
    "            step = 0\n",
    "        random_walk.append(step)\n",
    "    all_walks.append(random_walk)\n",
    "   \n",
    "    \n",
    "    \n",
    "\n",
    "print(all_walks)\n",
    "\n",
    "        \n",
    "    \n",
    "    \n",
    "    \n",
    "\n",
    "\n",
    "    "
   ]
  },
  {
   "cell_type": "markdown",
   "metadata": {},
   "source": [
    "Transpose np_aw by calling np.transpose() on np_aw. Call the result np_aw_t. Now every row in np_all_walks represents the position after 1 throw for the 10 random walks. "
   ]
  },
  {
   "cell_type": "code",
   "execution_count": 28,
   "metadata": {
    "scrolled": true
   },
   "outputs": [
    {
     "data": {
      "image/png": "[encoded data removed]",
      "text/plain": [
       "<Figure size 432x288 with 1 Axes>"
      ]
     },
     "metadata": {
      "needs_background": "light"
     },
     "output_type": "display_data"
    }
   ],
   "source": [
    "# Create and plot np_aw_t\n",
    "np_aw_t = np.transpose(np.array(all_walks))\n",
    "plt.plot(np_aw_t)\n",
    "plt.show() "
   ]
  },
  {
   "cell_type": "markdown",
   "metadata": {},
   "source": [
    "### What are the odds that you'll reach 60 steps high on the Empire State Building? ### "
   ]
  },
  {
   "cell_type": "code",
   "execution_count": 34,
   "metadata": {},
   "outputs": [
    {
     "data": {
      "image/png": "[encoded data removed]",
      "text/plain": [
       "<Figure size 432x288 with 1 Axes>"
      ]
     },
     "metadata": {
      "needs_background": "light"
     },
     "output_type": "display_data"
    }
   ],
   "source": [
    "#Plot the distribution\n",
    "import matplotlib.pyplot as plt\n",
    "import numpy as np\n",
    "np.random.seed(123)\n",
    "all_walks = []\n",
    "\n",
    "\n",
    "# Simulate random walk 500 times\n",
    "\n",
    "for i in range(500) :\n",
    "    random_walk = [0]\n",
    "    for x in range(100) :\n",
    "        step = random_walk[-1]\n",
    "        dice = np.random.randint(1,7)\n",
    "        if dice <= 2:\n",
    "            step = max(0, step - 1)\n",
    "        elif dice <= 5:\n",
    "            step = step + 1\n",
    "        else:\n",
    "            step = step + np.random.randint(1,7)\n",
    "            #implement clumsiness\n",
    "        if np.random.rand() <= 0.001 :\n",
    "            step = 0\n",
    "        random_walk.append(step)\n",
    "    all_walks.append(random_walk)\n",
    "\n",
    "# Create and plot np_aw_t\n",
    "np_aw_t = np.transpose(np.array(all_walks))\n",
    "\n",
    "# Select last row from np_aw_t: ends\n",
    "ends = np_aw_t[-1,:]\n",
    "\n",
    "# Plot histogram of ends, display plot\n",
    "plt.hist(ends)\n",
    "plt.show()"
   ]
  },
  {
   "cell_type": "markdown",
   "metadata": {},
   "source": [
    "## Calculate the odds \n",
    "\n",
    "Histogram created from ends that we previously created at, each integer represents the end point of a random walk. We need to calculate odds of when end point equal to 60 or greater than 60. According to below code we have 392 case. Now let's calculate the odds."
   ]
  },
  {
   "cell_type": "code",
   "execution_count": 37,
   "metadata": {},
   "outputs": [
    {
     "data": {
      "text/plain": [
       "392"
      ]
     },
     "execution_count": 37,
     "metadata": {},
     "output_type": "execute_result"
    }
   ],
   "source": [
    "len(ends[ends >= 60])"
   ]
  },
  {
   "cell_type": "markdown",
   "metadata": {},
   "source": [
    "Well then, what's the estimated chance that you'll reach at least 60 steps high if you play this Empire State Building game?"
   ]
  },
  {
   "cell_type": "code",
   "execution_count": 43,
   "metadata": {},
   "outputs": [
    {
     "name": "stdout",
     "output_type": "stream",
     "text": [
      "Seems like you have a pretty high chance 78.4% of winning the bet! \n"
     ]
    }
   ],
   "source": [
    "print('Seems like you have a pretty high chance ' + str((len(ends[ends >= 60])/500)*100 )+ '%' ' of winning the bet! ' )"
   ]
  }
 ],
 "metadata": {
  "kernelspec": {
   "display_name": "Python 3",
   "language": "python",
   "name": "python3"
  },
  "language_info": {
   "codemirror_mode": {
    "name": "ipython",
    "version": 3
   },
   "file_extension": ".py",
   "mimetype": "text/x-python",
   "name": "python",
   "nbconvert_exporter": "python",
   "pygments_lexer": "ipython3",
   "version": "3.8.5"
  }
 },
 "nbformat": 4,
 "nbformat_minor": 4
}
